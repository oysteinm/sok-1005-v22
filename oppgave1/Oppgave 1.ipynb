{
 "cells": [
  {
   "cell_type": "markdown",
   "id": "b22990e1-84b6-49be-bd89-658d5f7680e2",
   "metadata": {},
   "source": [
    "R kode til oppgave 1"
   ]
  },
  {
   "cell_type": "code",
   "execution_count": 1,
   "id": "48e050f0-356c-438e-b150-d26f19395de8",
   "metadata": {},
   "outputs": [
    {
     "data": {
      "text/html": [
       "4"
      ],
      "text/latex": [
       "4"
      ],
      "text/markdown": [
       "4"
      ],
      "text/plain": [
       "[1] 4"
      ]
     },
     "metadata": {},
     "output_type": "display_data"
    }
   ],
   "source": [
    "2+2"
   ]
  }
 ],
 "metadata": {
  "kernelspec": {
   "display_name": "R",
   "language": "R",
   "name": "ir"
  },
  "language_info": {
   "codemirror_mode": "r",
   "file_extension": ".r",
   "mimetype": "text/x-r-source",
   "name": "R",
   "pygments_lexer": "r",
   "version": "4.1.0"
  }
 },
 "nbformat": 4,
 "nbformat_minor": 5
}
