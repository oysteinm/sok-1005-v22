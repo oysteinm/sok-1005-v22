{
 "cells": [
  {
   "cell_type": "markdown",
   "id": "b7c9c665-7011-4fed-8a02-b13f3d99640d",
   "metadata": {},
   "source": [
    "Her er R koden til oppgave 2"
   ]
  },
  {
   "cell_type": "code",
   "execution_count": 1,
   "id": "8f5a2275-d475-4048-84dd-95b9d38acf0f",
   "metadata": {},
   "outputs": [
    {
     "data": {
      "text/html": [
       "13"
      ],
      "text/latex": [
       "13"
      ],
      "text/markdown": [
       "13"
      ],
      "text/plain": [
       "[1] 13"
      ]
     },
     "metadata": {},
     "output_type": "display_data"
    }
   ],
   "source": [
    "6+7"
   ]
  }
 ],
 "metadata": {
  "kernelspec": {
   "display_name": "R",
   "language": "R",
   "name": "ir"
  },
  "language_info": {
   "codemirror_mode": "r",
   "file_extension": ".r",
   "mimetype": "text/x-r-source",
   "name": "R",
   "pygments_lexer": "r",
   "version": "4.1.0"
  }
 },
 "nbformat": 4,
 "nbformat_minor": 5
}
